{
  "nbformat": 4,
  "nbformat_minor": 0,
  "metadata": {
    "colab": {
      "name": "OuraDataAnalyse.ipynb",
      "private_outputs": true,
      "provenance": [],
      "authorship_tag": "ABX9TyPNVPLook7YXmNh69p0S8KS"
    },
    "kernelspec": {
      "name": "python3",
      "display_name": "Python 3"
    },
    "language_info": {
      "name": "python"
    }
  },
  "cells": [
    {
      "cell_type": "code",
      "source": [
        "!pip install azure-data-tables\n"
      ],
      "metadata": {
        "id": "iIRIhUpMquRE"
      },
      "execution_count": null,
      "outputs": []
    },
    {
      "cell_type": "code",
      "source": [
        "from datetime import datetime\n",
        "from typing import List\n",
        "\n",
        "\n",
        "class SleepData:\n",
        "    summary_date: datetime\n",
        "    period_id: int\n",
        "    is_longest: int\n",
        "    timezone: int\n",
        "    bedtime_end: datetime\n",
        "    bedtime_start: datetime\n",
        "    breath_average: float\n",
        "    duration: int\n",
        "    total: int\n",
        "    awake: int\n",
        "    rem: int\n",
        "    deep: int\n",
        "    light: int\n",
        "    midpoint_time: int\n",
        "    efficiency: int\n",
        "    restless: int\n",
        "    onset_latency: int\n",
        "    hr_5_min: List[int]\n",
        "    hypnogram_5_min: str\n",
        "    rmssd: int\n",
        "    rmssd_5_min: List[int]\n",
        "    score: int\n",
        "    score_alignment: int\n",
        "    score_deep: int\n",
        "    score_disturbances: int\n",
        "    score_efficiency: int\n",
        "    score_latency: int\n",
        "    score_rem: int\n",
        "    score_total: int\n",
        "    temperature_deviation: float\n",
        "    temperature_trend_deviation: float\n",
        "    bedtime_start_delta: int\n",
        "    bedtime_end_delta: int\n",
        "    midpoint_at_delta: int\n",
        "    temperature_delta: float\n",
        "    hr_lowest: int\n",
        "    hr_average: float\n",
        "\n",
        "    def __init__(self, summary_date: datetime, period_id: int, is_longest: int, timezone: int, bedtime_end: datetime, bedtime_start: datetime, breath_average: float, duration: int, total: int, awake: int, rem: int, deep: int, light: int, midpoint_time: int, efficiency: int, restless: int, onset_latency: int, hr_5_min: List[int], hypnogram_5_min: str, rmssd: int, rmssd_5_min: List[int], score: int, score_alignment: int, score_deep: int, score_disturbances: int, score_efficiency: int, score_latency: int, score_rem: int, score_total: int, temperature_deviation: float, temperature_trend_deviation: float, bedtime_start_delta: int, bedtime_end_delta: int, midpoint_at_delta: int, temperature_delta: float, hr_lowest: int, hr_average: float) -> None:\n",
        "        self.summary_date = summary_date\n",
        "        self.period_id = period_id\n",
        "        self.is_longest = is_longest\n",
        "        self.timezone = timezone\n",
        "        self.bedtime_end = bedtime_end\n",
        "        self.bedtime_start = bedtime_start\n",
        "        self.breath_average = breath_average\n",
        "        self.duration = duration\n",
        "        self.total = total\n",
        "        self.awake = awake\n",
        "        self.rem = rem\n",
        "        self.deep = deep\n",
        "        self.light = light\n",
        "        self.midpoint_time = midpoint_time\n",
        "        self.efficiency = efficiency\n",
        "        self.restless = restless\n",
        "        self.onset_latency = onset_latency\n",
        "        self.hr_5_min = hr_5_min\n",
        "        self.hypnogram_5_min = hypnogram_5_min\n",
        "        self.rmssd = rmssd\n",
        "        self.rmssd_5_min = rmssd_5_min\n",
        "        self.score = score\n",
        "        self.score_alignment = score_alignment\n",
        "        self.score_deep = score_deep\n",
        "        self.score_disturbances = score_disturbances\n",
        "        self.score_efficiency = score_efficiency\n",
        "        self.score_latency = score_latency\n",
        "        self.score_rem = score_rem\n",
        "        self.score_total = score_total\n",
        "        self.temperature_deviation = temperature_deviation\n",
        "        self.temperature_trend_deviation = temperature_trend_deviation\n",
        "        self.bedtime_start_delta = bedtime_start_delta\n",
        "        self.bedtime_end_delta = bedtime_end_delta\n",
        "        self.midpoint_at_delta = midpoint_at_delta\n",
        "        self.temperature_delta = temperature_delta\n",
        "        self.hr_lowest = hr_lowest\n",
        "        self.hr_average = hr_average"
      ],
      "metadata": {
        "id": "zXlvCxhxxkA4"
      },
      "execution_count": null,
      "outputs": []
    },
    {
      "cell_type": "code",
      "source": [
        "class ReadinessData:\n",
        "    summary_date: datetime\n",
        "    period_id: int\n",
        "    score: int\n",
        "    score_activity_balance: int\n",
        "    score_hrv_balance: int\n",
        "    score_previous_day: int\n",
        "    score_previous_night: int\n",
        "    score_recovery_index: int\n",
        "    score_resting_hr: int\n",
        "    score_sleep_balance: int\n",
        "    score_temperature: int\n",
        "    rest_mode_state: int\n",
        "\n",
        "    def __init__(self, summary_date: datetime, period_id: int, score: int, score_activity_balance: int, score_hrv_balance: int, score_previous_day: int, score_previous_night: int, score_recovery_index: int, score_resting_hr: int, score_sleep_balance: int, score_temperature: int, rest_mode_state: int) -> None:\n",
        "        self.summary_date = summary_date\n",
        "        self.period_id = period_id\n",
        "        self.score = score\n",
        "        self.score_activity_balance = score_activity_balance\n",
        "        self.score_hrv_balance = score_hrv_balance\n",
        "        self.score_previous_day = score_previous_day\n",
        "        self.score_previous_night = score_previous_night\n",
        "        self.score_recovery_index = score_recovery_index\n",
        "        self.score_resting_hr = score_resting_hr\n",
        "        self.score_sleep_balance = score_sleep_balance\n",
        "        self.score_temperature = score_temperature\n",
        "        self.rest_mode_state = rest_mode_state"
      ],
      "metadata": {
        "id": "7GNzNw5y-gGH"
      },
      "execution_count": null,
      "outputs": []
    },
    {
      "cell_type": "code",
      "execution_count": null,
      "metadata": {
        "id": "zfYSruRrpmP4"
      },
      "outputs": [],
      "source": [
        "from azure.data.tables import TableClient\n",
        "import json\n",
        "\n",
        "import tensorflow as tf\n",
        "\n",
        "import requests\n",
        "from requests.structures import CaseInsensitiveDict"
      ]
    },
    {
      "cell_type": "markdown",
      "source": [
        "Fetch Data"
      ],
      "metadata": {
        "id": "RJzZRerQ3E3w"
      }
    },
    {
      "cell_type": "code",
      "source": [
        "conn_string = 'DefaultEndpointsProtocol=https;AccountName=ouradatastorage;AccountKey=0bnWNJUTZmS7Tc4Ufutyxd7ajRFn/8ikQQ0vUgv4Rq41eGoK18VfQ3p7OqkWmYwSDRyYH0MVL/SphX9F1URWdw==;EndpointSuffix=core.windows.net'\n",
        "table_name = 'Sleep'\n",
        "\n",
        "sleep_data = []\n",
        "\n",
        "with TableClient.from_connection_string(conn_str=conn_string, table_name=table_name) as tableClient:\n",
        "  query = tableClient.query_entities(query_filter='', select=['sleepdata'])\n",
        "  for item in query:\n",
        "    entity = json.loads(item['sleepdata'])\n",
        "    if entity is not None:\n",
        "      sleep_data.append(entity) \n"
      ],
      "metadata": {
        "id": "ALoW4DZErBzY"
      },
      "execution_count": null,
      "outputs": []
    },
    {
      "cell_type": "code",
      "source": [
        "print(sleep_data)\n",
        "len(sleep_data)"
      ],
      "metadata": {
        "id": "WR6H8gbp3BqB"
      },
      "execution_count": null,
      "outputs": []
    },
    {
      "cell_type": "code",
      "source": [
        "readiness_data = []\n",
        "\n",
        "url = \"https://api.ouraring.com/v1/readiness?start=2021-10-01&end=2022-01-13\"\n",
        "\n",
        "headers = CaseInsensitiveDict()\n",
        "headers[\"Accept\"] = \"application/json\"\n",
        "headers[\"Authorization\"] = \"Bearer VLZNW46PB4SW53FEHV34THODDBMZVN2W\"\n",
        "\n",
        "\n",
        "resp = requests.get(url, headers=headers)\n",
        "\n",
        "raw_data = resp.json()\n",
        "readiness_data = [i['score'] for i in raw_data['readiness']]\n",
        "len(readiness_data)"
      ],
      "metadata": {
        "id": "WryMEiBz7Lt7"
      },
      "execution_count": null,
      "outputs": []
    },
    {
      "cell_type": "code",
      "source": [
        "model = tf.keras.models.Sequential()\n",
        "model.add(tf.keras.Input(shape=(140,)))\n",
        "model.add(tf.keras.layers.Dense(120))\n",
        "model.add(tf.keras.layers.ReLU())\n",
        "model.add(tf.keras.layers.Dense(100))\n",
        "model.add(tf.keras.layers.Softmax())\n",
        "model.compile(optimizer=tf.keras.optimizers.SGD(), loss=tf.keras.losses.SparseCategoricalCrossentropy())"
      ],
      "metadata": {
        "id": "85i4gmgJBLTx"
      },
      "execution_count": null,
      "outputs": []
    },
    {
      "cell_type": "code",
      "source": [
        "sleep_pre = [x_val['hypnogram_5min'].rjust(140, '0') for x_val in sleep_data]\n",
        "sleep_pre = [list(map(int, lst)) for lst in sleep_pre]\n",
        "sleep_pre = tf.convert_to_tensor(sleep_pre)\n",
        "\n",
        "readiness_pre = [y_val for y_val in readiness_data]\n",
        "readiness_pre = tf.convert_to_tensor(readiness_pre)\n",
        "sleep_pre"
      ],
      "metadata": {
        "id": "_LNY-GnwEwkx"
      },
      "execution_count": null,
      "outputs": []
    },
    {
      "cell_type": "code",
      "source": [
        "model.fit(x=sleep_pre[:57], y=readiness_pre[:57], epochs=50, validation_split=0.3)"
      ],
      "metadata": {
        "id": "rX8z442xEPcC"
      },
      "execution_count": null,
      "outputs": []
    },
    {
      "cell_type": "code",
      "source": [
        "data = sleep_pre[54]\n",
        "\n",
        "data = tf.expand_dims(data, axis=0)\n",
        "data.shape\n",
        "model.predict(data)"
      ],
      "metadata": {
        "id": "gensSu9QSHqx"
      },
      "execution_count": null,
      "outputs": []
    }
  ]
}